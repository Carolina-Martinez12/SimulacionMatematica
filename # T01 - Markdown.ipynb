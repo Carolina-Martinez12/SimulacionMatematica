{
 "cells": [
  {
   "cell_type": "markdown",
   "id": "47a0b23e",
   "metadata": {},
   "source": [
    "# T01 - Markdown"
   ]
  },
  {
   "cell_type": "markdown",
   "id": "864ef35f",
   "metadata": {},
   "source": [
    "## Carolina Martínez Escalante"
   ]
  },
  {
   "cell_type": "markdown",
   "id": "4cac7bdc",
   "metadata": {},
   "source": [
    "Mi nombre es Carolina Martínez Escalante, pero prefiero que me digan **Caro**\n",
    "Estudio _ingeniería financiera_ y estoy cursando mi tercer semestre"
   ]
  },
  {
   "cell_type": "markdown",
   "id": "d124b0e1",
   "metadata": {},
   "source": [
    "Algunas de las materias que he cursado y más me han gustado han sido:"
   ]
  },
  {
   "cell_type": "markdown",
   "id": "e682d1c4",
   "metadata": {},
   "source": [
    "- Bolsa de valores\n",
    "- Información financiera\n",
    "- Cálculo integral\n",
    "- Economía\n"
   ]
  },
  {
   "cell_type": "markdown",
   "id": "c6924e82",
   "metadata": {},
   "source": [
    "Algunos de los temas que me han gustado dentro de la carrera han sido:"
   ]
  },
  {
   "cell_type": "markdown",
   "id": "08d9d792",
   "metadata": {},
   "source": [
    "1. Análisis técnico\n",
    "2. Análisis fundamental\n",
    "3. Estados de situación financiera \n",
    "4. Aproximaciones\n",
    "5. Elasticidad precio demanda"
   ]
  },
  {
   "cell_type": "markdown",
   "id": "a65bcb15",
   "metadata": {},
   "source": [
    "La **elasticidad precio demanda** de los bienes es el cambio porcentual en el consumo de un bien si su precio de modifica. Gracias a ella podemos saber si un bien es _vital / indispensable_ o es más un _lujo_. Por ejemplo, si el precio de la tortilla aumenta, el consumo se mantiene casi igual ya que es uno de los alimentos base de la dieta del mexicano; pero si el precio de las galletas María aumentara, su demanda sería menor ya que no representan un bien indispensable y puede ser sustituido por uno más barato.\n",
    "\n",
    "Esta es la fórmula para calcularla:\n"
   ]
  },
  {
   "cell_type": "markdown",
   "id": "346116f0",
   "metadata": {},
   "source": [
    "![](https://enciclopediaeconomica.com/wp-content/uploads/2020/08/formula-elasticidad-de-la-demanda.jpg)"
   ]
  },
  {
   "cell_type": "markdown",
   "id": "b54fcbcc",
   "metadata": {},
   "source": [
    "Donde $$Q= Cantidad$$  $$P= Precio$$\n",
    "\n",
    "$Q1=Cantidad:bien1$\n",
    "\n",
    "$Q2=Cantidad:bien 2$\n",
    "\n",
    "$P1=Precio:bien 1$\n",
    "\n",
    "$P2=Precio:bien 2$"
   ]
  }
 ],
 "metadata": {
  "kernelspec": {
   "display_name": "Python 3 (ipykernel)",
   "language": "python",
   "name": "python3"
  },
  "language_info": {
   "codemirror_mode": {
    "name": "ipython",
    "version": 3
   },
   "file_extension": ".py",
   "mimetype": "text/x-python",
   "name": "python",
   "nbconvert_exporter": "python",
   "pygments_lexer": "ipython3",
   "version": "3.9.12"
  }
 },
 "nbformat": 4,
 "nbformat_minor": 5
}
